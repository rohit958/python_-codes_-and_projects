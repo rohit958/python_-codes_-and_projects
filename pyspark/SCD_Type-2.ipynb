{
 "cells": [
  {
   "cell_type": "markdown",
   "metadata": {
    "application/vnd.databricks.v1+cell": {
     "cellMetadata": {},
     "inputWidgets": {},
     "nuid": "97b47656-eab3-4bca-97eb-5f41496f886b",
     "showTitle": false,
     "title": ""
    }
   },
   "source": [
    "## SCD Type-2 Implemementation"
   ]
  },
  {
   "cell_type": "code",
   "execution_count": 0,
   "metadata": {
    "application/vnd.databricks.v1+cell": {
     "cellMetadata": {
      "byteLimit": 2048000,
      "rowLimit": 10000
     },
     "inputWidgets": {},
     "nuid": "9cb67715-ff26-4f8c-80cf-25ac44b2aa64",
     "showTitle": false,
     "title": ""
    }
   },
   "outputs": [],
   "source": [
    "from pyspark.sql.functions import *\n",
    "from pyspark.sql.types import *\n",
    "from pyspark.sql.window import Window\n",
    "import datetime as dt"
   ]
  },
  {
   "cell_type": "code",
   "execution_count": 0,
   "metadata": {
    "application/vnd.databricks.v1+cell": {
     "cellMetadata": {
      "byteLimit": 2048000,
      "rowLimit": 10000
     },
     "inputWidgets": {},
     "nuid": "a749c756-8ef8-453b-a91f-107fdec16459",
     "showTitle": false,
     "title": ""
    }
   },
   "outputs": [],
   "source": [
    "customer_dim_data = [\n",
    "\n",
    "(1,'manish','arwal','india','N','2022-09-15','2022-09-25'),\n",
    "(2,'vikash','patna','india','Y','2023-08-12',None),\n",
    "(3,'nikita','delhi','india','Y','2023-09-10',None),\n",
    "(4,'rakesh','jaipur','india','Y','2023-06-10',None),\n",
    "(5,'ayush','NY','USA','Y','2023-06-10',None),\n",
    "(1,'manish','gurgaon','india','Y','2022-09-25',None),\n",
    "]\n",
    "\n",
    "customer_schema= ['id','name','city','country','active','effective_start_date','effective_end_date']\n",
    "\n",
    "customer_dim_df = spark.createDataFrame(data= customer_dim_data,schema=customer_schema)\n",
    "\n",
    "sales_data = [\n",
    "\n",
    "(1,1,'manish','2023-01-16','gurgaon','india',380),\n",
    "(77,1,'manish','2023-03-11','bangalore','india',300),\n",
    "(12,3,'nikita','2023-09-20','delhi','india',127),\n",
    "(54,4,'rakesh','2023-08-10','jaipur','india',321),\n",
    "(65,5,'ayush','2023-09-07','mosco','russia',765),\n",
    "(89,6,'rajat','2023-08-10','jaipur','india',321)\n",
    "]\n",
    "\n",
    "sales_schema = ['sales_id', 'customer_id','customer_name', 'sales_date', 'food_delivery_address','food_delivery_country', 'food_cost']\n",
    "\n",
    "sales_df = spark.createDataFrame(data=sales_data,schema=sales_schema)\n",
    "\n",
    "# sales- fact table\n",
    "# customer-dimention"
   ]
  },
  {
   "cell_type": "code",
   "execution_count": 0,
   "metadata": {
    "application/vnd.databricks.v1+cell": {
     "cellMetadata": {
      "byteLimit": 2048000,
      "rowLimit": 10000
     },
     "inputWidgets": {},
     "nuid": "1c429741-2cb8-4b12-aee2-0434f47870aa",
     "showTitle": false,
     "title": ""
    }
   },
   "outputs": [
    {
     "output_type": "stream",
     "name": "stdout",
     "output_type": "stream",
     "text": [
      "+---+------+-------+-------+------+--------------------+------------------+--------+-----------+-------------+----------+---------------------+---------------------+---------+\n| id|  name|   city|country|active|effective_start_date|effective_end_date|sales_id|customer_id|customer_name|sales_date|food_delivery_address|food_delivery_country|food_cost|\n+---+------+-------+-------+------+--------------------+------------------+--------+-----------+-------------+----------+---------------------+---------------------+---------+\n|  1|manish|  arwal|  india|     N|          2022-09-15|        2022-09-25|      77|          1|       manish|2023-03-11|            bangalore|                india|      300|\n|  1|manish|  arwal|  india|     N|          2022-09-15|        2022-09-25|       1|          1|       manish|2023-01-16|              gurgaon|                india|      380|\n|  2|vikash|  patna|  india|     Y|          2023-08-12|              NULL|    NULL|       NULL|         NULL|      NULL|                 NULL|                 NULL|     NULL|\n|  3|nikita|  delhi|  india|     Y|          2023-09-10|              NULL|      12|          3|       nikita|2023-09-20|                delhi|                india|      127|\n|  4|rakesh| jaipur|  india|     Y|          2023-06-10|              NULL|      54|          4|       rakesh|2023-08-10|               jaipur|                india|      321|\n|  5| ayush|     NY|    USA|     Y|          2023-06-10|              NULL|      65|          5|        ayush|2023-09-07|                mosco|               russia|      765|\n|  1|manish|gurgaon|  india|     Y|          2022-09-25|              NULL|      77|          1|       manish|2023-03-11|            bangalore|                india|      300|\n|  1|manish|gurgaon|  india|     Y|          2022-09-25|              NULL|       1|          1|       manish|2023-01-16|              gurgaon|                india|      380|\n+---+------+-------+-------+------+--------------------+------------------+--------+-----------+-------------+----------+---------------------+---------------------+---------+\n\n"
     ]
    }
   ],
   "source": [
    "# step1 compare the changes\n",
    "\n",
    "joinedDf= customer_dim_df.join(sales_df,customer_dim_df[\"id\"]==sales_df[\"customer_id\"],\"left\")\n",
    "joinedDf.show()"
   ]
  },
  {
   "cell_type": "code",
   "execution_count": 0,
   "metadata": {
    "application/vnd.databricks.v1+cell": {
     "cellMetadata": {
      "byteLimit": 2048000,
      "rowLimit": 10000
     },
     "inputWidgets": {},
     "nuid": "839c0ce5-008d-433f-94ee-7bd62fd40c89",
     "showTitle": false,
     "title": ""
    }
   },
   "outputs": [
    {
     "output_type": "stream",
     "name": "stdout",
     "output_type": "stream",
     "text": [
      "+-----------+-------------+---------+---------------------+------+--------------------+------------------+\n|customer_id|customer_name|     city|food_delivery_country|active|effective_start_date|effective_end_date|\n+-----------+-------------+---------+---------------------+------+--------------------+------------------+\n|          1|       manish|bangalore|                india|     Y|          2023-03-11|              NULL|\n|          5|        ayush|    mosco|               russia|     Y|          2023-09-07|              NULL|\n+-----------+-------------+---------+---------------------+------+--------------------+------------------+\n\n"
     ]
    }
   ],
   "source": [
    "# step 2 filter the records\n",
    "## finding out the records where cities are not same and active is Y\n",
    "DF1=joinedDf.where((col(\"food_delivery_address\") != col(\"city\")) & (col(\"active\")==\"Y\"))\\\n",
    "    .withColumn(\"active\",lit(\"Y\"))\\\n",
    "    .withColumn(\"effective_start_date\", col(\"sales_date\"))\\\n",
    "        .withColumn(\"effective_end_date\",lit(None))\\\n",
    "            .select(\"customer_id\",\n",
    "                    \"customer_name\",\n",
    "                    col(\"food_delivery_address\").alias(\"city\"),\n",
    "                    \"food_delivery_country\",\n",
    "                    \"active\",\n",
    "                    \"effective_start_date\",\n",
    "                    \"effective_end_date\")\n",
    "\n",
    "DF1.show()"
   ]
  },
  {
   "cell_type": "code",
   "execution_count": 0,
   "metadata": {
    "application/vnd.databricks.v1+cell": {
     "cellMetadata": {
      "byteLimit": 2048000,
      "rowLimit": 10000
     },
     "inputWidgets": {},
     "nuid": "26e7b677-eacc-4935-b7dd-17552cf40c51",
     "showTitle": false,
     "title": ""
    }
   },
   "outputs": [
    {
     "output_type": "stream",
     "name": "stdout",
     "output_type": "stream",
     "text": [
      "+-----------+-------------+-------+---------------------+------+--------------------+------------------+\n|customer_id|customer_name|   city|food_delivery_country|active|effective_start_date|effective_end_date|\n+-----------+-------------+-------+---------------------+------+--------------------+------------------+\n|          1|       manish|gurgaon|                india|     N|          2022-09-25|        2023-03-11|\n|          5|        ayush|     NY|               russia|     N|          2023-06-10|        2023-09-07|\n+-----------+-------------+-------+---------------------+------+--------------------+------------------+\n\n"
     ]
    }
   ],
   "source": [
    "#updating old records\n",
    "old_data=joinedDf.where((col(\"food_delivery_address\") != col(\"city\")) & (col(\"active\")==\"Y\"))\\\n",
    "    .withColumn(\"active\",lit(\"N\"))\\\n",
    "        .withColumn(\"effective_end_date\",col(\"sales_date\"))\\\n",
    "            .select(\"customer_id\",\n",
    "                    \"customer_name\",\n",
    "                    \"city\",\n",
    "                    \"food_delivery_country\",\n",
    "                    \"active\",\n",
    "                    \"effective_start_date\",\n",
    "                    \"effective_end_date\")\n",
    "\n",
    "old_data.show()"
   ]
  },
  {
   "cell_type": "code",
   "execution_count": 0,
   "metadata": {
    "application/vnd.databricks.v1+cell": {
     "cellMetadata": {
      "byteLimit": 2048000,
      "rowLimit": 10000
     },
     "inputWidgets": {},
     "nuid": "787810e4-1875-4aba-b769-9c8bd1de2866",
     "showTitle": false,
     "title": ""
    }
   },
   "outputs": [
    {
     "output_type": "stream",
     "name": "stdout",
     "output_type": "stream",
     "text": [
      "+---+------+---------+-------+------+--------------------+------------------+\n| id|  name|     city|country|active|effective_start_date|effective_end_date|\n+---+------+---------+-------+------+--------------------+------------------+\n|  1|manish|    arwal|  india|     N|          2022-09-15|        2022-09-25|\n|  2|vikash|    patna|  india|     Y|          2023-08-12|              NULL|\n|  3|nikita|    delhi|  india|     Y|          2023-09-10|              NULL|\n|  4|rakesh|   jaipur|  india|     Y|          2023-06-10|              NULL|\n|  5| ayush|       NY|    USA|     Y|          2023-06-10|              NULL|\n|  1|manish|  gurgaon|  india|     Y|          2022-09-25|              NULL|\n|  1|manish|bangalore|  india|     Y|          2023-03-11|              NULL|\n|  5| ayush|    mosco| russia|     Y|          2023-09-07|              NULL|\n|  1|manish|  gurgaon|  india|     N|          2022-09-25|        2023-03-11|\n|  5| ayush|       NY| russia|     N|          2023-06-10|        2023-09-07|\n+---+------+---------+-------+------+--------------------+------------------+\n\n"
     ]
    }
   ],
   "source": [
    "# merging the records\n",
    "Final_records=customer_dim_df.union(DF1).union(old_data)\n",
    "\n",
    "Final_records.show()"
   ]
  },
  {
   "cell_type": "code",
   "execution_count": 0,
   "metadata": {
    "application/vnd.databricks.v1+cell": {
     "cellMetadata": {
      "byteLimit": 2048000,
      "rowLimit": 10000
     },
     "inputWidgets": {},
     "nuid": "780b9d08-aa2f-459d-bcef-b5a0227a8ea7",
     "showTitle": false,
     "title": ""
    }
   },
   "outputs": [],
   "source": [
    "#Deleting duplicate old records \n",
    "\n",
    "windowSpec= Window.partitionBy(\"id\",\"active\").orderBy(col(\"effective_start_date\").desc())\n",
    "\n",
    "Final_records=Final_records.withColumn(\"rank\",rank().over(windowSpec))\\\n",
    "    .filter(~((col(\"active\")==\"Y\")&(col(\"rank\")>=2))).drop(\"rank\")"
   ]
  },
  {
   "cell_type": "code",
   "execution_count": 0,
   "metadata": {
    "application/vnd.databricks.v1+cell": {
     "cellMetadata": {
      "byteLimit": 2048000,
      "rowLimit": 10000
     },
     "inputWidgets": {},
     "nuid": "cc37efdf-3f0d-416b-9347-68cfa109ff64",
     "showTitle": false,
     "title": ""
    }
   },
   "outputs": [
    {
     "output_type": "stream",
     "name": "stdout",
     "output_type": "stream",
     "text": [
      "+---+------+---------+-------+------+--------------------+------------------+\n| id|  name|     city|country|active|effective_start_date|effective_end_date|\n+---+------+---------+-------+------+--------------------+------------------+\n|  1|manish|  gurgaon|  india|     N|          2022-09-25|        2023-03-11|\n|  1|manish|    arwal|  india|     N|          2022-09-15|        2022-09-25|\n|  1|manish|bangalore|  india|     Y|          2023-03-11|              NULL|\n|  2|vikash|    patna|  india|     Y|          2023-08-12|              NULL|\n|  3|nikita|    delhi|  india|     Y|          2023-09-10|              NULL|\n|  4|rakesh|   jaipur|  india|     Y|          2023-06-10|              NULL|\n|  5| ayush|       NY| russia|     N|          2023-06-10|        2023-09-07|\n|  5| ayush|    mosco| russia|     Y|          2023-09-07|              NULL|\n+---+------+---------+-------+------+--------------------+------------------+\n\n"
     ]
    }
   ],
   "source": [
    "Final_records.show()"
   ]
  },
  {
   "cell_type": "code",
   "execution_count": 0,
   "metadata": {
    "application/vnd.databricks.v1+cell": {
     "cellMetadata": {},
     "inputWidgets": {},
     "nuid": "d6254923-edb1-409e-8b5d-af36d1514156",
     "showTitle": false,
     "title": ""
    }
   },
   "outputs": [],
   "source": []
  }
 ],
 "metadata": {
  "application/vnd.databricks.v1+notebook": {
   "dashboards": [],
   "environmentMetadata": {
    "base_environment": "",
    "client": "1"
   },
   "language": "python",
   "notebookMetadata": {
    "pythonIndentUnit": 4
   },
   "notebookName": "SCD_Type-2",
   "widgets": {}
  }
 },
 "nbformat": 4,
 "nbformat_minor": 0
}
