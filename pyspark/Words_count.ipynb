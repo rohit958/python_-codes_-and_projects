{
 "cells": [
  {
   "cell_type": "code",
   "execution_count": 0,
   "metadata": {
    "application/vnd.databricks.v1+cell": {
     "cellMetadata": {
      "byteLimit": 2048000,
      "rowLimit": 10000
     },
     "inputWidgets": {},
     "nuid": "afd91615-df6c-4d83-8174-92bf6d8b5f71",
     "showTitle": false,
     "title": ""
    }
   },
   "outputs": [
    {
     "output_type": "stream",
     "name": "stdout",
     "output_type": "stream",
     "text": [
      "+--------------------+\n|               value|\n+--------------------+\n|Quod equidem non ...|\n|Lorem ipsum dolor...|\n|                    |\n|Iam id ipsum absu...|\n|                    |\n|Quis istum dolore...|\n|Summus dolor plur...|\n|                    |\n|Ex eorum enim scr...|\n|Quod si ita est, ...|\n|                    |\n|Quem si tenueris,...|\n|Stulti autem malo...|\n|Esse enim quam ve...|\n|Quae autem natura...|\n|Verum tamen cum d...|\n|Hoc est non modo ...|\n|Voluptatem cum su...|\n|                    |\n|Idemne, quod iucu...|\n+--------------------+\nonly showing top 20 rows\n\n"
     ]
    }
   ],
   "source": [
    "path=\"dbfs:/FileStore/sample3.txt\"\n",
    "\n",
    "from pyspark.sql.functions import *\n",
    "df=spark.read.text(path)\n",
    "df.show()"
   ]
  },
  {
   "cell_type": "code",
   "execution_count": 0,
   "metadata": {
    "application/vnd.databricks.v1+cell": {
     "cellMetadata": {
      "byteLimit": 2048000,
      "rowLimit": 10000
     },
     "inputWidgets": {},
     "nuid": "9494560b-53cd-4ede-acdf-e4a00c2e53bb",
     "showTitle": false,
     "title": ""
    }
   },
   "outputs": [
    {
     "output_type": "stream",
     "name": "stdout",
     "output_type": "stream",
     "text": [
      "root\n |-- value: string (nullable = true)\n\n"
     ]
    }
   ],
   "source": [
    "#count number of words\n",
    "df.printSchema()"
   ]
  },
  {
   "cell_type": "code",
   "execution_count": 0,
   "metadata": {
    "application/vnd.databricks.v1+cell": {
     "cellMetadata": {
      "byteLimit": 2048000,
      "rowLimit": 10000
     },
     "inputWidgets": {},
     "nuid": "e82e7978-40fa-4eec-b3f7-035853f255bd",
     "showTitle": false,
     "title": ""
    }
   },
   "outputs": [
    {
     "output_type": "stream",
     "name": "stdout",
     "output_type": "stream",
     "text": [
      "+--------------------+\n|               words|\n+--------------------+\n|[Quod, equidem, n...|\n|[Lorem, ipsum, do...|\n|                  []|\n|[Iam, id, ipsum, ...|\n|                  []|\n|[Quis, istum, dol...|\n|[Summus, dolor, p...|\n|                  []|\n|[Ex, eorum, enim,...|\n|[Quod, si, ita, e...|\n|                  []|\n|[Quem, si, tenuer...|\n|[Stulti, autem, m...|\n|[Esse, enim, quam...|\n|[Quae, autem, nat...|\n|[Verum, tamen, cu...|\n|[Hoc, est, non, m...|\n|[Voluptatem, cum,...|\n|                  []|\n|[Idemne,, quod, i...|\n+--------------------+\nonly showing top 20 rows\n\n"
     ]
    }
   ],
   "source": [
    "df1=df.select(split(col(\"value\"),\" \").alias(\"words\"))\n",
    "df1.show()"
   ]
  },
  {
   "cell_type": "code",
   "execution_count": 0,
   "metadata": {
    "application/vnd.databricks.v1+cell": {
     "cellMetadata": {
      "byteLimit": 2048000,
      "rowLimit": 10000
     },
     "inputWidgets": {},
     "nuid": "1839d202-b790-4392-8e88-81b84d0e93d2",
     "showTitle": false,
     "title": ""
    }
   },
   "outputs": [
    {
     "output_type": "stream",
     "name": "stdout",
     "output_type": "stream",
     "text": [
      "+-------------+------+\n|        words|counts|\n+-------------+------+\n|        plane|     1|\n|          lex|     1|\n|institutionis|     1|\n|   voluptates|     1|\n|          Sed|     3|\n|         isti|     1|\n|         nova|     1|\n|         vera|     1|\n|          rei|     1|\n|        istis|     1|\n|       quanta|     1|\n|      sapiens|     1|\n|        dixti|     1|\n|           ne|     3|\n|   accesserit|     1|\n|       quoque|     1|\n|         bene|     1|\n|       causam|     1|\n|        Dicet|     1|\n|      quamvis|     1|\n+-------------+------+\nonly showing top 20 rows\n\n"
     ]
    }
   ],
   "source": [
    "df2=df1.select(explode(col(\"words\")).alias(\"wordtemp\"))\n",
    "df2=df2.withColumn(\"words\",regexp_replace(col(\"wordtemp\"),r\"[^a-zA-Z0-9]\",\"\"))\n",
    "df3=df2.drop(\"wordtemp\")\n",
    "df3.groupby(col(\"words\")).agg(count(\"*\").alias(\"counts\")).show()"
   ]
  },
  {
   "cell_type": "code",
   "execution_count": 0,
   "metadata": {
    "application/vnd.databricks.v1+cell": {
     "cellMetadata": {},
     "inputWidgets": {},
     "nuid": "d75e1778-2b17-4e6d-8b6c-c15e18ae7506",
     "showTitle": false,
     "title": ""
    }
   },
   "outputs": [],
   "source": []
  }
 ],
 "metadata": {
  "application/vnd.databricks.v1+notebook": {
   "dashboards": [],
   "environmentMetadata": null,
   "language": "python",
   "notebookMetadata": {
    "pythonIndentUnit": 4
   },
   "notebookName": "Words_count",
   "widgets": {}
  }
 },
 "nbformat": 4,
 "nbformat_minor": 0
}
