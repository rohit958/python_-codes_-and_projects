{
 "cells": [
  {
   "cell_type": "code",
   "execution_count": 2,
   "id": "dfb5550b",
   "metadata": {},
   "outputs": [],
   "source": [
    "# testing log files and adding random numbers \n",
    "import logging\n",
    "import sys\n",
    "import random \n",
    "\n",
    "logging.basicConfig(filename=r\"D:\\python_ codes_ and_projects\\test\\logfile.log\",format=\"{asctime} {levelname:<8} {message}\", style=\"{\", encoding='UTF-8',level=logging.DEBUG)\n",
    "\n",
    "\n",
    "a=random.randint(0,10) \n",
    "b=random.randint(10,15)\n",
    "\n",
    "def add_num(p,q):\n",
    "    s=p+q\n",
    "    return s\n",
    "\n",
    "test= add_num(a,b)\n",
    "logging.debug('add: {} + {} = {}'.format(a, b, test))\n",
    "logging.info('code exceuted successfully!')\n"
   ]
  }
 ],
 "metadata": {
  "kernelspec": {
   "display_name": "Python 3 (ipykernel)",
   "language": "python",
   "name": "python3"
  },
  "language_info": {
   "codemirror_mode": {
    "name": "ipython",
    "version": 3
   },
   "file_extension": ".py",
   "mimetype": "text/x-python",
   "name": "python",
   "nbconvert_exporter": "python",
   "pygments_lexer": "ipython3",
   "version": "3.9.7"
  }
 },
 "nbformat": 4,
 "nbformat_minor": 5
}
