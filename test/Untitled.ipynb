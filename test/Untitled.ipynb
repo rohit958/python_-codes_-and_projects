{
 "cells": [
  {
   "cell_type": "code",
   "execution_count": 2,
   "id": "dfb5550b",
   "metadata": {},
   "outputs": [],
   "source": [
    "# testing log files and adding random numbers \n",
    "import logging\n",
    "import sys\n",
    "import random \n",
    "\n",
    "logging.basicConfig(filename=r\"D:\\python_ codes_ and_projects\\test\\logfile.log\",format=\"{asctime} {levelname:<8} {message}\", style=\"{\", encoding='UTF-8',level=logging.DEBUG)\n",
    "\n",
    "\n",
    "a=random.randint(0,10) \n",
    "b=random.randint(10,15)\n",
    "\n",
    "def add_num(p,q):\n",
    "    s=p+q\n",
    "    return s\n",
    "\n",
    "test= add_num(a,b)\n",
    "logging.debug('add: {} + {} = {}'.format(a, b, test))\n",
    "logging.info('code exceuted successfully!')\n"
   ]
  }
 ],
 "metadata": {
  "kernelspec": {
   "display_name": "Python 3",
   "language": "python",
   "name": "python3"
  },
  "language_info": {
   "codemirror_mode": {
    "name": "ipython",
    "version": 3
   },
   "file_extension": ".py",
   "mimetype": "text/x-python",
   "name": "python",
   "nbconvert_exporter": "python",
   "pygments_lexer": "ipython3",
   "version": "3.11.1 (tags/v3.11.1:a7a450f, Dec  6 2022, 19:58:39) [MSC v.1934 64 bit (AMD64)]"
  },
  "vscode": {
   "interpreter": {
    "hash": "f14c79724f1ca44cee74076c7ac411651646bb7bad4ab2435a2a33e719afb75e"
   }
  }
 },
 "nbformat": 4,
 "nbformat_minor": 5
}
