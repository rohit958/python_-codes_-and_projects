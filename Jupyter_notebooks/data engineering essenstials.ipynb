{
 "cells": [
  {
   "cell_type": "code",
   "execution_count": 1,
   "id": "1d3ca7e9",
   "metadata": {},
   "outputs": [
    {
     "name": "stderr",
     "output_type": "stream",
     "text": [
      "'pip' is not recognized as an internal or external command,\n",
      "operable program or batch file.\n"
     ]
    }
   ],
   "source": [
    "! pip install spotipy"
   ]
  },
  {
   "cell_type": "code",
   "execution_count": 2,
   "id": "d4ac6969",
   "metadata": {},
   "outputs": [
    {
     "ename": "ModuleNotFoundError",
     "evalue": "No module named 'pandas'",
     "output_type": "error",
     "traceback": [
      "\u001b[1;31m---------------------------------------------------------------------------\u001b[0m",
      "\u001b[1;31mModuleNotFoundError\u001b[0m                       Traceback (most recent call last)",
      "Cell \u001b[1;32mIn[2], line 13\u001b[0m\n\u001b[0;32m      4\u001b[0m \u001b[39m'''\u001b[39;00m\n\u001b[0;32m      5\u001b[0m \u001b[39mimport csv\u001b[39;00m\n\u001b[0;32m      6\u001b[0m \n\u001b[1;32m   (...)\u001b[0m\n\u001b[0;32m     10\u001b[0m \u001b[39m        print(row)\u001b[39;00m\n\u001b[0;32m     11\u001b[0m \u001b[39m'''\u001b[39;00m\n\u001b[0;32m     12\u001b[0m \u001b[39m#importing using pandas\u001b[39;00m\n\u001b[1;32m---> 13\u001b[0m \u001b[39mimport\u001b[39;00m \u001b[39mpandas\u001b[39;00m \u001b[39mas\u001b[39;00m \u001b[39mpd\u001b[39;00m\n\u001b[0;32m     14\u001b[0m df\u001b[39m=\u001b[39mpd\u001b[39m.\u001b[39mread_csv(\u001b[39m'\u001b[39m\u001b[39mD:\u001b[39m\u001b[39m\\\u001b[39m\u001b[39msample_CSV\u001b[39m\u001b[39m\\\u001b[39m\u001b[39moscar_age_male.csv\u001b[39m\u001b[39m'\u001b[39m)\n\u001b[0;32m     15\u001b[0m \u001b[39m#print(df)\u001b[39;00m\n",
      "\u001b[1;31mModuleNotFoundError\u001b[0m: No module named 'pandas'"
     ]
    }
   ],
   "source": [
    "#import csv file in read mode\n",
    "\n",
    "\n",
    "'''\n",
    "import csv\n",
    "\n",
    "with open('D:\\sample_CSV\\cities.CSV','r') as file:\n",
    "    reader=csv.reader(file, delimiter = '\\t' )\n",
    "    for row in reader:\n",
    "        print(row)\n",
    "'''\n",
    "#importing using pandas\n",
    "import pandas as pd\n",
    "df=pd.read_csv('D:\\sample_CSV\\oscar_age_male.csv')\n",
    "#print(df)\n",
    "\n",
    "print(df.head(10))# top 10\n",
    "#print(df.tail(10))# last 10\n",
    "\n",
    "#print(df.info())# info\n",
    "#define maximum returning rows\n",
    "#pd.options.display.max_rows=100\n",
    "\n"
   ]
  },
  {
   "cell_type": "code",
   "execution_count": 3,
   "id": "d9e53926",
   "metadata": {},
   "outputs": [
    {
     "ename": "AttributeError",
     "evalue": "module 'pandas' has no attribute 'json'",
     "output_type": "error",
     "traceback": [
      "\u001b[1;31m---------------------------------------------------------------------------\u001b[0m",
      "\u001b[1;31mAttributeError\u001b[0m                            Traceback (most recent call last)",
      "\u001b[1;32m~\\AppData\\Local\\Temp/ipykernel_420/1767241854.py\u001b[0m in \u001b[0;36m<module>\u001b[1;34m\u001b[0m\n\u001b[0;32m      6\u001b[0m \u001b[1;33m\u001b[0m\u001b[0m\n\u001b[0;32m      7\u001b[0m \u001b[1;33m\u001b[0m\u001b[0m\n\u001b[1;32m----> 8\u001b[1;33m \u001b[0mdf\u001b[0m\u001b[1;33m=\u001b[0m\u001b[0mpd\u001b[0m\u001b[1;33m.\u001b[0m\u001b[0mjson\u001b[0m\u001b[1;33m(\u001b[0m\u001b[0mdata\u001b[0m\u001b[1;33m)\u001b[0m\u001b[1;33m\u001b[0m\u001b[1;33m\u001b[0m\u001b[0m\n\u001b[0m\u001b[0;32m      9\u001b[0m \u001b[0mdf\u001b[0m\u001b[1;33m.\u001b[0m\u001b[0mshow\u001b[0m\u001b[1;33m(\u001b[0m\u001b[1;33m)\u001b[0m\u001b[1;33m\u001b[0m\u001b[1;33m\u001b[0m\u001b[0m\n\u001b[0;32m     10\u001b[0m \u001b[1;31m#df=pd.json_normalize(data, record_path=['phoneNumbers'], meta=['firstName','lastName','gender','age','address'], errors='ignore')\u001b[0m\u001b[1;33m\u001b[0m\u001b[1;33m\u001b[0m\u001b[0m\n",
      "\u001b[1;32m~\\anaconda3\\lib\\site-packages\\pandas\\__init__.py\u001b[0m in \u001b[0;36m__getattr__\u001b[1;34m(name)\u001b[0m\n\u001b[0;32m    242\u001b[0m         \u001b[1;32mreturn\u001b[0m \u001b[0m_SparseArray\u001b[0m\u001b[1;33m\u001b[0m\u001b[1;33m\u001b[0m\u001b[0m\n\u001b[0;32m    243\u001b[0m \u001b[1;33m\u001b[0m\u001b[0m\n\u001b[1;32m--> 244\u001b[1;33m     \u001b[1;32mraise\u001b[0m \u001b[0mAttributeError\u001b[0m\u001b[1;33m(\u001b[0m\u001b[1;34mf\"module 'pandas' has no attribute '{name}'\"\u001b[0m\u001b[1;33m)\u001b[0m\u001b[1;33m\u001b[0m\u001b[1;33m\u001b[0m\u001b[0m\n\u001b[0m\u001b[0;32m    245\u001b[0m \u001b[1;33m\u001b[0m\u001b[0m\n\u001b[0;32m    246\u001b[0m \u001b[1;33m\u001b[0m\u001b[0m\n",
      "\u001b[1;31mAttributeError\u001b[0m: module 'pandas' has no attribute 'json'"
     ]
    }
   ],
   "source": [
    "#normalizing nested JSON file\n",
    "import json\n",
    "import pandas as pd\n",
    "with open('D:\\\\sample_JSON\\\\new 1.json','r')as file:\n",
    "    data=json.load(file)  \n",
    "    \n",
    "\n",
    "df=pd.json(data)\n",
    "df.show()\n",
    "#df=pd.json_normalize(data, record_path=['phoneNumbers'], meta=['firstName','lastName','gender','age','address'], errors='ignore')\n",
    "#print(df['address'])"
   ]
  },
  {
   "cell_type": "code",
   "execution_count": null,
   "id": "bdffef66",
   "metadata": {},
   "outputs": [],
   "source": []
  },
  {
   "cell_type": "code",
   "execution_count": 8,
   "id": "e54932cc",
   "metadata": {},
   "outputs": [
    {
     "name": "stdout",
     "output_type": "stream",
     "text": [
      "Json \n",
      "             Product  Price\n",
      "0  Desktop Computer    700\n",
      "1            Tablet    250\n",
      "2           Printer    100\n",
      "3            Laptop   1200\n",
      "CSV conversion:\n",
      "             Product  Price\n",
      "0  Desktop Computer    700\n",
      "1            Tablet    250\n",
      "2           Printer    100\n",
      "3            Laptop   1200\n"
     ]
    }
   ],
   "source": [
    "# JSON to CSV\n",
    "import pandas as pd\n",
    "df = pd.read_json (r'D:\\sample_JSON\\sample2.json')\n",
    "\n",
    "print(\"Json \\n\",df.to_string())\n",
    "df.to_csv (r'D:\\sample_CSV\\output.csv', index = None)\n",
    "print(\"CSV conversion:\\n\",df.head(10))"
   ]
  },
  {
   "cell_type": "code",
   "execution_count": 9,
   "id": "182c5f0d",
   "metadata": {},
   "outputs": [],
   "source": [
    "# script to send email\n",
    "\n",
    "import smtplib\n",
    "\n",
    "email_list=['rohit161124@gmail.com']\n",
    "\n",
    "credentials={\"email\":\"rohitkushwaha630@gmail.com\",\n",
    "            \"password\":\"ltsqcguzpqwlczkz\"}\n",
    "\n",
    "for email_id in email_list:\n",
    "    s=smtplib.SMTP('smtp.gmail.com',587)\n",
    "    s.starttls()\n",
    "    s.login(credentials[\"email\"],credentials[\"password\"])\n",
    "    message=\"Hi get your life back. Regards,Rohit Kushwaha\"\n",
    "    s.sendmail(credentials[\"email\"],email_id,message)\n",
    "    s.quit()\n",
    "    \n",
    "    "
   ]
  },
  {
   "cell_type": "code",
   "execution_count": 6,
   "id": "5e994596",
   "metadata": {},
   "outputs": [
    {
     "name": "stdout",
     "output_type": "stream",
     "text": [
      "India, officially the Republic of India (Hindi: Bhārat Gaṇarājya),[23] is a country in South Asia. It is the seventh-largest country by area, the second-most populous country, and the most populous democracy in the world. Bounded by the Indian Ocean on the south, the Arabian Sea on the southwest, and the Bay of Bengal on the southeast, it shares land borders with Pakistan to the west;[f] China, Nepal, and Bhutan to the north; and Bangladesh and Myanmar to the east. In the Indian Ocean, India is in the vicinity of Sri Lanka and the Maldives; its Andaman and Nicobar Islands share a maritime border with Thailand, Myanmar and Indonesia. \n",
      "\n",
      " Words Count: 108\n"
     ]
    }
   ],
   "source": [
    "#reading a text file\n",
    "#open file\n",
    "file= open('D:\\sample_text_files\\samaple_text_files.txt','r',encoding=\"utf8\")\n",
    "\n",
    "#read into string\n",
    "text=file.read()\n",
    "\n",
    "#print string\n",
    "print(text)\n",
    "\n",
    "#Words count\n",
    "wordscount=len(text.split())\n",
    "print(\"\\n Words Count:\",str(wordscount))\n",
    "\n",
    "#close file\n",
    "file.close()\n",
    "\n"
   ]
  },
  {
   "cell_type": "code",
   "execution_count": 12,
   "id": "035d9356",
   "metadata": {},
   "outputs": [
    {
     "name": "stdout",
     "output_type": "stream",
     "text": [
      "   0 First Name  Last Name  Gender        Country  Age        Date    Id\n",
      "0  1      Dulce      Abril  Female  United States   32  15/10/2017  1562\n",
      "1  2       Mara  Hashimoto  Female  Great Britain   25  16/08/2016  1582\n",
      "2  3     Philip       Gent    Male         France   36  21/05/2015  2587\n",
      "3  4   Kathleen     Hanner  Female  United States   25  15/10/2017  3549\n",
      "4  5    Nereida    Magwood  Female  United States   58  16/08/2016  2468\n",
      "5  6     Gaston      Brumm    Male  United States   24  21/05/2015  2554\n",
      "6  7       Etta       Hurn  Female  Great Britain   56  15/10/2017  3598\n",
      "7  8    Earlean     Melgar  Female  United States   27  16/08/2016  2456\n",
      "8  9   Vincenza    Weiland  Female  United States   40  21/05/2015  6548\n"
     ]
    }
   ],
   "source": [
    "# reading a excel file\n",
    "import xlrd\n",
    "import pandas as pd\n",
    "\n",
    "\n",
    "\n",
    "\n",
    "\n",
    "df = pd.read_excel(r'D:\\sample_excel_Files\\file_example_XLS.xls')\n",
    "\n",
    "print(df)"
   ]
  },
  {
   "cell_type": "code",
   "execution_count": 3,
   "id": "9d46a3f0",
   "metadata": {},
   "outputs": [
    {
     "name": "stdout",
     "output_type": "stream",
     "text": [
      "+-----+\n",
      "|hello|\n",
      "+-----+\n",
      "|spark|\n",
      "+-----+\n",
      "\n"
     ]
    }
   ],
   "source": [
    "import findspark\n",
    "\n",
    "findspark.init()\n",
    "from pyspark.sql import SparkSession\n",
    "\n",
    "spark = SparkSession.builder.getOrCreate()\n",
    "df = spark.sql('''select 'spark' as hello''')\n",
    "df.show()\n"
   ]
  },
  {
   "cell_type": "code",
   "execution_count": 2,
   "id": "8293e7be",
   "metadata": {},
   "outputs": [
    {
     "name": "stdout",
     "output_type": "stream",
     "text": [
      "Collecting findspark\n",
      "  Using cached findspark-2.0.1-py2.py3-none-any.whl (4.4 kB)\n",
      "Installing collected packages: findspark\n",
      "Successfully installed findspark-2.0.1\n"
     ]
    }
   ],
   "source": [
    "!pip install findspark"
   ]
  },
  {
   "cell_type": "code",
   "execution_count": 13,
   "id": "ab1381d1",
   "metadata": {},
   "outputs": [],
   "source": [
    "#how to unzip a file \n",
    "#import zipfile module\n",
    "from zipfile import ZipFile\n",
    "\n",
    "with ZipFile(r'D:\\sample_zip_file.zip') as f:\n",
    "    #extract in current directory\n",
    "    f.extractall('D:\\sample_zip_file')"
   ]
  },
  {
   "cell_type": "code",
   "execution_count": null,
   "id": "15207028",
   "metadata": {},
   "outputs": [],
   "source": [
    "#creating a pipline"
   ]
  },
  {
   "cell_type": "code",
   "execution_count": null,
   "id": "09ebd645",
   "metadata": {},
   "outputs": [],
   "source": [
    "#simple ETL\n"
   ]
  },
  {
   "cell_type": "code",
   "execution_count": 10,
   "id": "b77c63d9",
   "metadata": {},
   "outputs": [
    {
     "name": "stdout",
     "output_type": "stream",
     "text": [
      "56\n"
     ]
    }
   ],
   "source": [
    "#pandas-series\n",
    "\n",
    "import pandas as pd\n",
    "\n",
    "a=[3,5,56,33]\n",
    "\n",
    "myvar=pd.Series(a,index=[\"a\",\"b\",\"c\",\"d\"])\n",
    "\n",
    "print(myvar[\"c\"])"
   ]
  },
  {
   "cell_type": "code",
   "execution_count": 1,
   "id": "5c713df2",
   "metadata": {},
   "outputs": [
    {
     "name": "stdout",
     "output_type": "stream",
     "text": [
      "        ID             Name  Age\n",
      "Char_3   3  Ganesh Gaitonde   23\n",
      "Char_2   2    Kancha Cheena   44\n"
     ]
    }
   ],
   "source": [
    "#pandas-dataframe\n",
    "\n",
    "import pandas as pd\n",
    "\n",
    "data={\n",
    "    \"ID\":[1,2,3,4,5],\n",
    "    \"Name\":[\"Puspa\",\"Kancha Cheena\",\"Ganesh Gaitonde\",\"Cheems\",\"Doge\"],\n",
    "    \"Age\":[33,44,23,23,55]\n",
    "}\n",
    "#df=pd.DataFrame(data)\n",
    "df=pd.DataFrame(data,index=[\"char_1\",\"Char_2\",\"Char_3\",\"char_4\",\"Char_5\"])\n",
    "\n",
    "# by location\n",
    "#print(df.loc[[3,4]])\n",
    "\n",
    "# by index\n",
    "print(df.loc[[\"Char_3\",\"Char_2\"]])"
   ]
  },
  {
   "cell_type": "code",
   "execution_count": 47,
   "id": "5fc8232f",
   "metadata": {},
   "outputs": [
    {
     "name": "stdout",
     "output_type": "stream",
     "text": [
      "average: 35.6\n",
      "median 33.0\n",
      "mode 0    23\n",
      "dtype: int64\n",
      "sum: 178\n"
     ]
    }
   ],
   "source": [
    "#pandas cleaning data\n",
    "\n",
    "\n",
    "#dropna\n",
    "df.dropna(inplace=True)\n",
    "#inplace true-will replace original df ater removing null values\n",
    "\n",
    "#fillna- fill some values in null age row\n",
    "\n",
    "df[\"age\"].fillna(130,inplace=True)\n",
    "\n",
    "x=df[\"Age\"].mean()#avg\n",
    "print(\"average:\",x)\n",
    "\n",
    "median=df[\"Age\"].median()#median middle most\n",
    "print(\"median\",median)\n",
    "\n",
    "mod=df[\"Age\"].mode()#mode most occuring\n",
    "print(\"mode\",mod)\n",
    "\n",
    "print(\"sum:\",df[\"Age\"].sum())\n",
    "\n",
    "#pd.to_datetime-coverts datatype to datetime format\n",
    "pd.to_datetime()\n",
    "\n",
    "#The to_pickle() method is used to pickle (serialize) the given object into the file. \n",
    "pd.to_pickle()\n",
    "\n",
    "#to find duplicate returns true if row is duplicated\n",
    "print(df.duplicated())\n",
    "\n",
    "#remove duplicate row\n",
    "df[\"Age\"].drop_duplicates()\n",
    "\n"
   ]
  },
  {
   "cell_type": "code",
   "execution_count": 6,
   "id": "80b6bece",
   "metadata": {},
   "outputs": [
    {
     "name": "stdout",
     "output_type": "stream",
     "text": [
      "   ID   Name  Age\n",
      "0   1  Puspa   33\n"
     ]
    }
   ],
   "source": [
    "#where cocurrent in pandas\n",
    "import pandas as pd\n",
    "\n",
    "data={\n",
    "    \"ID\":[1,2,3,4,5],\n",
    "    \"Name\":[\"Puspa\",\"Kancha Cheena\",\"Ganesh Gaitonde\",\"Cheems\",\"Doge\"],\n",
    "    \"Age\":[33,44,23,23,55]\n",
    "}\n",
    "#where\n",
    "df=pd.DataFrame(data)\n",
    "print (df[df['Age'] == 33].head(5))\n",
    "\n",
    "#groupby\n",
    "#print(df.groupby('Age').size())\n",
    "\n",
    "#\n"
   ]
  },
  {
   "cell_type": "code",
   "execution_count": 38,
   "id": "36ff9c55",
   "metadata": {},
   "outputs": [
    {
     "data": {
      "text/html": [
       "<div>\n",
       "<style scoped>\n",
       "    .dataframe tbody tr th:only-of-type {\n",
       "        vertical-align: middle;\n",
       "    }\n",
       "\n",
       "    .dataframe tbody tr th {\n",
       "        vertical-align: top;\n",
       "    }\n",
       "\n",
       "    .dataframe thead th {\n",
       "        text-align: right;\n",
       "    }\n",
       "</style>\n",
       "<table border=\"1\" class=\"dataframe\">\n",
       "  <thead>\n",
       "    <tr style=\"text-align: right;\">\n",
       "      <th></th>\n",
       "      <th>ID</th>\n",
       "      <th>Age</th>\n",
       "    </tr>\n",
       "  </thead>\n",
       "  <tbody>\n",
       "    <tr>\n",
       "      <th>ID</th>\n",
       "      <td>1.000000</td>\n",
       "      <td>0.261905</td>\n",
       "    </tr>\n",
       "    <tr>\n",
       "      <th>Age</th>\n",
       "      <td>0.261905</td>\n",
       "      <td>1.000000</td>\n",
       "    </tr>\n",
       "  </tbody>\n",
       "</table>\n",
       "</div>"
      ],
      "text/plain": [
       "           ID       Age\n",
       "ID   1.000000  0.261905\n",
       "Age  0.261905  1.000000"
      ]
     },
     "execution_count": 38,
     "metadata": {},
     "output_type": "execute_result"
    }
   ],
   "source": [
    "# pandas correlations\n",
    "#relation and dependencies-corr +1 up-up, -1 up-down and 0.2 not good correlation \n",
    "df.corr()\n"
   ]
  },
  {
   "cell_type": "code",
   "execution_count": 43,
   "id": "152d874c",
   "metadata": {},
   "outputs": [
    {
     "data": {
      "text/plain": [
       "<AxesSubplot:>"
      ]
     },
     "execution_count": 43,
     "metadata": {},
     "output_type": "execute_result"
    },
    {
     "data": {
      "image/png": "[encoded data removed]",
      "text/plain": [
       "<Figure size 432x288 with 1 Axes>"
      ]
     },
     "metadata": {
      "needs_background": "light"
     },
     "output_type": "display_data"
    },
    {
     "data": {
      "image/png": "[encoded data removed]",
      "text/plain": [
       "<Figure size 432x288 with 1 Axes>"
      ]
     },
     "metadata": {
      "needs_background": "light"
     },
     "output_type": "display_data"
    }
   ],
   "source": [
    "#plot\n",
    "import matplotlib.pyplot as plt\n",
    "df.plot(kind='hist',x = 'ID', y = 'Age')#kind='hist','scatter'\n",
    "df.plot()"
   ]
  },
  {
   "cell_type": "code",
   "execution_count": null,
   "id": "c3bbf325",
   "metadata": {},
   "outputs": [],
   "source": [
    "#3D datatype in pandas-panel(container of dataframe)\n"
   ]
  },
  {
   "cell_type": "code",
   "execution_count": null,
   "id": "8cdbc261",
   "metadata": {},
   "outputs": [],
   "source": [
    "#sqlalcahemy database connection\n",
    "from sqlalchemy import create_engine, MetaData, Table, Column, Integer, String\n",
    "\n",
    "#1.creating engine\n",
    "engine = create_engine('sqlite:///college.db', echo = True)\n",
    "\n",
    "#2.metadata\n",
    "meta = MetaData()\n",
    "\n",
    "students = Table(\n",
    "   'students', meta, \n",
    "   Column('id', Integer, primary_key = True), \n",
    "   Column('name', String), \n",
    "   Column('lastname', String), \n",
    ")\n",
    "\n",
    "#3.insert expresions\n",
    "ins = students.insert()\n",
    "ins = students.insert().values(name = 'Ravi', lastname = 'Kapoor')\n",
    "\n",
    "#4.engine connect\n",
    "conn = engine.connect()\n",
    "\n",
    "#5.excecute\n",
    "result = conn.execute(ins)\n",
    "\n"
   ]
  },
  {
   "cell_type": "code",
   "execution_count": null,
   "id": "740c2774",
   "metadata": {},
   "outputs": [],
   "source": [
    "from sqlalchemy import text\n",
    "\n",
    "#1.creating engine\n",
    "engine = create_engine('sqlite:///college.db', echo = True)\n",
    "\n",
    "#2.engine connect\n",
    "conn = engine.connect()\n",
    "\n",
    "#3. sql string\n",
    "t = text(\"SELECT * FROM students\")\n",
    "\n",
    "#4.execute\n",
    "result = connection.execute(t)\n"
   ]
  },
  {
   "cell_type": "code",
   "execution_count": null,
   "id": "155f4a69",
   "metadata": {},
   "outputs": [],
   "source": [
    "from sqlalchemy import and_\n",
    "from sqlalchemy.sql import select\n",
    "s = select([text(\"* from students\")]) \\\n",
    ".where(\n",
    "   and_(\n",
    "      text(\"students.name between :x and :y\"),\n",
    "      text(\"students.id>2\")\n",
    "   )\n",
    ")\n",
    "conn.execute(s, x = 'A', y = 'L').fetchall()"
   ]
  },
  {
   "cell_type": "code",
   "execution_count": null,
   "id": "e22bec35",
   "metadata": {},
   "outputs": [],
   "source": []
  },
  {
   "cell_type": "code",
   "execution_count": null,
   "id": "f1b49458",
   "metadata": {},
   "outputs": [],
   "source": []
  },
  {
   "cell_type": "code",
   "execution_count": null,
   "id": "b9747828",
   "metadata": {},
   "outputs": [],
   "source": []
  }
 ],
 "metadata": {
  "kernelspec": {
   "display_name": "base",
   "language": "python",
   "name": "python3"
  },
  "language_info": {
   "codemirror_mode": {
    "name": "ipython",
    "version": 3
   },
   "file_extension": ".py",
   "mimetype": "text/x-python",
   "name": "python",
   "nbconvert_exporter": "python",
   "pygments_lexer": "ipython3",
   "version": "3.9.13"
  },
  "vscode": {
   "interpreter": {
    "hash": "835930cdab659cfe0998f909845533c8bce739076c1411aa039e952001a7acf8"
   }
  }
 },
 "nbformat": 4,
 "nbformat_minor": 5
}
