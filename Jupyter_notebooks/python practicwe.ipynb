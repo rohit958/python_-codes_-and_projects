{
 "cells": [
  {
   "cell_type": "code",
   "execution_count": 2,
   "id": "d8f61691",
   "metadata": {},
   "outputs": [
    {
     "name": "stdout",
     "output_type": "stream",
     "text": [
      "['abc', 'xyz', 'bgc']\n"
     ]
    }
   ],
   "source": [
    "list1=[\"abc\",\"abc\",\"xyz\",\"bgc\",\"xyz\"]\n",
    "temp=[]\n",
    "for x in list1:\n",
    "    if x not in temp:\n",
    "        temp.append(x)\n",
    "                \n",
    "print(temp)     "
   ]
  },
  {
   "cell_type": "code",
   "execution_count": 3,
   "id": "60a1813a",
   "metadata": {},
   "outputs": [
    {
     "name": "stdout",
     "output_type": "stream",
     "text": [
      "15\n",
      "13\n"
     ]
    }
   ],
   "source": [
    "#lambda function\n",
    "x = lambda a : a + 10\n",
    "print(x(5))\n",
    "\n",
    "y = lambda a, b, c : a + b + c\n",
    "print(y(5, 6, 2)) "
   ]
  },
  {
   "cell_type": "code",
   "execution_count": 111,
   "id": "34b70563",
   "metadata": {},
   "outputs": [
    {
     "name": "stdout",
     "output_type": "stream",
     "text": [
      "[2, 4, 6, 8]\n"
     ]
    }
   ],
   "source": [
    "#  map.\n",
    "  \n",
    "# Return double of n\n",
    "def addition(n):\n",
    "    return n + n\n",
    "  \n",
    "# We double all numbers using map()\n",
    "numbers = (1, 2, 3, 4)\n",
    "result = map(addition, numbers)\n",
    "print(list(result))"
   ]
  },
  {
   "cell_type": "code",
   "execution_count": null,
   "id": "adc81279",
   "metadata": {},
   "outputs": [],
   "source": [
    "list1=[\"abc\",\"abc\",\"xyz\",\"bgc\",\"xyz\"]\n",
    "temp=[]\n",
    "for x in list1:\n",
    "    if x not in temp:\n",
    "        temp.append(x)\n",
    "    \n",
    "        \n",
    "            \n",
    "print(temp)    "
   ]
  },
  {
   "cell_type": "code",
   "execution_count": null,
   "id": "35f4165d",
   "metadata": {},
   "outputs": [],
   "source": [
    "# modules v/s packages\n",
    "# modules- simplicity- it helps to solve problem on smaller basis\n",
    "#     maintainability- reduces interdependency\n",
    "#     reusablitlity- function defined in module can be used anywhere\n",
    "#     scoping-\n",
    "\n",
    "#packages"
   ]
  },
  {
   "cell_type": "code",
   "execution_count": 123,
   "id": "6894f461",
   "metadata": {},
   "outputs": [
    {
     "name": "stdout",
     "output_type": "stream",
     "text": [
      "['\\nHave', 'free', 'hours', 'and', 'love', 'children?', '\\nDrive', 'kids', 'to', 'school,', 'soccer', 'practice', '\\nand', 'other', 'activities.\\n']\n"
     ]
    }
   ],
   "source": [
    "sentence = \"\"\"\n",
    "Have free hours and love children? \n",
    "Drive kids to school, soccer practice \n",
    "and other activities.\n",
    "\"\"\"\n",
    "def find_bigrams(sentence) :\n",
    "    txt=sentence\n",
    "    words=sentence.split(' ')\n",
    "    return words\n",
    "\n",
    "\n",
    "\n",
    "sentence.\n",
    "print(find_bigrams(sentence))    "
   ]
  },
  {
   "cell_type": "code",
   "execution_count": 127,
   "id": "69f40a3e",
   "metadata": {},
   "outputs": [
    {
     "name": "stdout",
     "output_type": "stream",
     "text": [
      "i\n"
     ]
    }
   ],
   "source": [
    "# print first repeative letter\n",
    "inp = \"interviewquery\"\n",
    "\n",
    "def recur(string):\n",
    "    string=string\n",
    "    temp=''\n",
    "    for l in string:\n",
    "        if l not in temp:\n",
    "            temp+=l\n",
    "        else:\n",
    "            print(l)\n",
    "            break\n",
    "recur(inp)            "
   ]
  },
  {
   "cell_type": "code",
   "execution_count": 157,
   "id": "98e9bd00",
   "metadata": {},
   "outputs": [
    {
     "name": "stdout",
     "output_type": "stream",
     "text": [
      "the cat was rat by the bat "
     ]
    }
   ],
   "source": [
    "\n",
    "roots = [\"cat\", \"bat\", \"rat\"]\n",
    "sentence = \"the cattle was rattled by the battery\"\n",
    "#replace cattle with cat and so on\n",
    "temp= sentence.split(' ')\n",
    "final=[]\n",
    "\n",
    "for word in temp:   \n",
    "    if len(word)>3:\n",
    "        for k in range(len(roots)):\n",
    "            if word[0:3]==roots[k]:\n",
    "                print(roots[k],end=' ')\n",
    "                k=k+1\n",
    "    else:\n",
    "\n",
    "        print(word,end=' ')\n",
    "final=str(final)\n"
   ]
  },
  {
   "cell_type": "code",
   "execution_count": null,
   "id": "78ee0ee5",
   "metadata": {},
   "outputs": [],
   "source": [
    "\n"
   ]
  },
  {
   "cell_type": "code",
   "execution_count": 33,
   "id": "e0c11547",
   "metadata": {},
   "outputs": [
    {
     "name": "stdout",
     "output_type": "stream",
     "text": [
      "<function getenv at 0x000001F20B5B90D0>\n"
     ]
    }
   ],
   "source": []
  },
  {
   "cell_type": "code",
   "execution_count": 51,
   "id": "c7d40079",
   "metadata": {},
   "outputs": [
    {
     "name": "stdout",
     "output_type": "stream",
     "text": [
      "not palindrome\n"
     ]
    }
   ],
   "source": [
    "\n",
    "#palindrome\n",
    "word='bucky'\n",
    "\n",
    "rev=word[::-1]\n",
    "\n",
    "if word==rev:\n",
    "    print('palindrome')\n",
    "else:\n",
    "    print(\"not palindrome\")"
   ]
  },
  {
   "cell_type": "code",
   "execution_count": null,
   "id": "203ae13c",
   "metadata": {},
   "outputs": [],
   "source": []
  },
  {
   "cell_type": "code",
   "execution_count": null,
   "id": "9beace4f",
   "metadata": {},
   "outputs": [],
   "source": []
  },
  {
   "cell_type": "code",
   "execution_count": 9,
   "id": "640cf869",
   "metadata": {},
   "outputs": [
    {
     "name": "stdout",
     "output_type": "stream",
     "text": [
      "original String- geeks for geeks geeks geeks geeks\n",
      "formated string: Geeks for Geeks Geeks Geeks Geeks\n"
     ]
    }
   ],
   "source": [
    "string=\"geeks for geeks geeks geeks geeks\"\n",
    "\n",
    "print(\"original String-\",string)\n",
    "# replace \n",
    "print(\"formated string:\",string.replace('geeks','Geeks'))"
   ]
  },
  {
   "cell_type": "code",
   "execution_count": 10,
   "id": "1d34525c",
   "metadata": {},
   "outputs": [
    {
     "name": "stdout",
     "output_type": "stream",
     "text": [
      "False\n"
     ]
    }
   ],
   "source": [
    "# is title \n",
    "print(string.istitle())"
   ]
  },
  {
   "cell_type": "code",
   "execution_count": 114,
   "id": "0e76d0b3",
   "metadata": {},
   "outputs": [
    {
     "name": "stdout",
     "output_type": "stream",
     "text": [
      "geksfor\n"
     ]
    }
   ],
   "source": [
    "# remove duplicates from string\n",
    "s=\"\"\n",
    "for i in string:\n",
    "    if i not in s:\n",
    "        if i!=\" \":\n",
    "            s=s+i\n",
    "print(str(s))"
   ]
  },
  {
   "cell_type": "code",
   "execution_count": 23,
   "id": "6e058f17",
   "metadata": {},
   "outputs": [
    {
     "name": "stdout",
     "output_type": "stream",
     "text": [
      "6\n"
     ]
    }
   ],
   "source": [
    "# program to count number of words\n",
    "#partition only one time runs\n",
    "\n",
    "\n",
    "listq=(string.split(\" \"))#using split\n",
    "words_count=len(listq)\n",
    "print(words_count)"
   ]
  },
  {
   "cell_type": "code",
   "execution_count": 28,
   "id": "97ff751f",
   "metadata": {},
   "outputs": [
    {
     "name": "stdout",
     "output_type": "stream",
     "text": [
      "geeksfor\n"
     ]
    }
   ],
   "source": [
    "# remove duplicate words from string\n",
    "k=''\n",
    "#print(listq)\n",
    "for word in listq:\n",
    "    if word not in k:\n",
    "        k=k+word\n",
    "print(k)    "
   ]
  },
  {
   "cell_type": "code",
   "execution_count": 49,
   "id": "4840153b",
   "metadata": {},
   "outputs": [
    {
     "name": "stdout",
     "output_type": "stream",
     "text": [
      "lavarakuta\n"
     ]
    }
   ],
   "source": [
    "# remove successive characters from strng\n",
    "\n",
    "def rrec(word):\n",
    "    k=''\n",
    "    l=len(word)\n",
    "    for i in range(l):\n",
    "        if word[i]==word[i-1]:\n",
    "            pass\n",
    "        else :\n",
    "            k=k+word[i]\n",
    "    return(k)        \n",
    "\n",
    "print(rrec('lllllavarakutta'))\n",
    "        "
   ]
  },
  {
   "cell_type": "code",
   "execution_count": 1,
   "id": "ccbc1cdf",
   "metadata": {},
   "outputs": [
    {
     "name": "stdout",
     "output_type": "stream",
     "text": [
      "[108, 76, 108, 108, 108, 97, 118, 97, 114, 97, 107, 117, 116, 116, 97]\n"
     ]
    }
   ],
   "source": [
    "#ascii value of character\n",
    "word='lLlllavarakutta'\n",
    "l=[]\n",
    "for a in word:\n",
    "    l.append(ord(a))\n",
    "print(l)\n"
   ]
  },
  {
   "cell_type": "code",
   "execution_count": 5,
   "id": "bb7a2ac5",
   "metadata": {},
   "outputs": [
    {
     "name": "stdout",
     "output_type": "stream",
     "text": [
      "120\n"
     ]
    }
   ],
   "source": [
    "#factorial\n",
    "num=5\n",
    "\n",
    "def fact(num):\n",
    "    k=1\n",
    "    while(num>0):\n",
    "        k*=num\n",
    "        num-=1\n",
    "    return k    \n",
    "        \n",
    "print(fact(num))        "
   ]
  },
  {
   "cell_type": "code",
   "execution_count": 32,
   "id": "853e30af",
   "metadata": {},
   "outputs": [
    {
     "name": "stdout",
     "output_type": "stream",
     "text": [
      "0,1,2,3,5,7,11,13,17,19,23,29,31,37,41,43,47,"
     ]
    }
   ],
   "source": [
    "#prime numbers\n",
    "\n",
    "limit=50\n",
    "\n",
    "def check_prime(num):\n",
    "    count=0\n",
    "    prime=[]\n",
    "    for x in range(1,num):\n",
    "        if num%x==0:\n",
    "            count+=1\n",
    "    if count<2:\n",
    "        prime.append(k)\n",
    "\n",
    "    #output list   \n",
    "    for l in range(len(prime)):\n",
    "        print(prime[l],end=\",\")\n",
    "\n",
    "for k in range(limit):\n",
    "    check_prime(k)\n",
    "\n",
    "  \n",
    "        \n",
    "        "
   ]
  },
  {
   "cell_type": "code",
   "execution_count": 9,
   "id": "518e5446",
   "metadata": {},
   "outputs": [
    {
     "name": "stdout",
     "output_type": "stream",
     "text": [
      "composite\n"
     ]
    }
   ],
   "source": [
    "def check_prime(num):\n",
    "    count=0\n",
    "    for x in range(1,num):\n",
    "        if num%x==0:\n",
    "            count+=1\n",
    "    if count<2:\n",
    "        print(\"prime\")\n",
    "    else:\n",
    "        print(\"composite\")\n",
    "\n",
    "check_prime(6)        "
   ]
  },
  {
   "cell_type": "code",
   "execution_count": null,
   "id": "869ba64c",
   "metadata": {},
   "outputs": [],
   "source": []
  },
  {
   "cell_type": "code",
   "execution_count": null,
   "id": "3303ba8e",
   "metadata": {},
   "outputs": [],
   "source": []
  },
  {
   "cell_type": "code",
   "execution_count": null,
   "id": "b4780a87",
   "metadata": {},
   "outputs": [],
   "source": []
  },
  {
   "cell_type": "code",
   "execution_count": null,
   "id": "26389df2",
   "metadata": {},
   "outputs": [],
   "source": []
  }
 ],
 "metadata": {
  "kernelspec": {
   "display_name": "Python 3",
   "language": "python",
   "name": "python3"
  },
  "language_info": {
   "codemirror_mode": {
    "name": "ipython",
    "version": 3
   },
   "file_extension": ".py",
   "mimetype": "text/x-python",
   "name": "python",
   "nbconvert_exporter": "python",
   "pygments_lexer": "ipython3",
   "version": "3.11.1 (tags/v3.11.1:a7a450f, Dec  6 2022, 19:58:39) [MSC v.1934 64 bit (AMD64)]"
  },
  "vscode": {
   "interpreter": {
    "hash": "f14c79724f1ca44cee74076c7ac411651646bb7bad4ab2435a2a33e719afb75e"
   }
  }
 },
 "nbformat": 4,
 "nbformat_minor": 5
}
