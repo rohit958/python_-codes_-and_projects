{
 "cells": [
  {
   "cell_type": "code",
   "execution_count": 83,
   "id": "0af2d826",
   "metadata": {},
   "outputs": [],
   "source": [
    "#logging and creating log file\n",
    "\n",
    "import logging\n",
    "import sys\n",
    "import random \n",
    "\n",
    "logging.basicConfig(filename='D:\\python_ codes_ and_projects\\logfile.log',format=\"{asctime} {levelname:<8} {message}\", style=\"{\", encoding='UTF-8',level=logging.DEBUG)\n",
    "\n",
    "\n",
    "a=random.randint(0,10) \n",
    "b=random.randint(10,15)\n",
    "\n",
    "def add_num(p,q):\n",
    "    s=p+q\n",
    "    return s\n",
    "\n",
    "test= add_num(a,b)\n",
    "logging.debug('add: {} + {} = {}'.format(a, b, test))\n",
    "logging.info('code exceuted successfully!')\n"
   ]
  },
  {
   "cell_type": "code",
   "execution_count": 3,
   "id": "0dbdeb19",
   "metadata": {},
   "outputs": [
    {
     "name": "stdout",
     "output_type": "stream",
     "text": [
      "0    {'streetAddress': '101', 'city': 'San Diego', ...\n",
      "Name: address, dtype: object\n"
     ]
    },
    {
     "ename": "SystemExit",
     "evalue": "exiting code",
     "output_type": "error",
     "traceback": [
      "An exception has occurred, use %tb to see the full traceback.\n",
      "\u001b[1;31mSystemExit\u001b[0m\u001b[1;31m:\u001b[0m exiting code\n"
     ]
    }
   ],
   "source": [
    "#exceptional handling\n",
    "import sys\n",
    "import json\n",
    "import pandas as pd\n",
    "import logging\n",
    "logging.basicConfig(filename='D:\\sample_JSON\\logfile.log',format=\"{asctime} {levelname:<8} {message}\", style=\"{\", encoding='UTF-8',level=logging.DEBUG)\n",
    "logger=logging.getLogger(__name__)\n",
    "\n",
    "try:\n",
    "    with open('D:\\\\sample_JSON\\\\new 1.json','r')as file:\n",
    "        data=json.load(file)  \n",
    "    df=pd.json_normalize(data, record_path=['phoneNumbers'], meta=['firstName','lastName','gender','age','address'], errors='ignore')\n",
    "    print(df['address'])\n",
    "    logging.DEBUG()\n",
    "\n",
    "except Exception as e:    \n",
    "    logging.error('file loading failed !')\n",
    "    logger.error(e)\n",
    "    \n",
    "    \n",
    "finally:\n",
    "    sys.exit(\"exiting code\") \n",
    "    \n"
   ]
  },
  {
   "cell_type": "code",
   "execution_count": 14,
   "id": "80a591dc",
   "metadata": {},
   "outputs": [
    {
     "name": "stdout",
     "output_type": "stream",
     "text": [
      "Www.HackerRank.com\n"
     ]
    }
   ],
   "source": [
    "s='wWW.hACKERrANK.COM'\n",
    "temp=''\n",
    "\n",
    "for c in range(len(s)):\n",
    "    if s[c].islower():\n",
    "        temp+=s[c].upper()\n",
    "    else:\n",
    "        temp+=s[c].lower()\n",
    "\n",
    "print(temp)"
   ]
  }
 ],
 "metadata": {
  "kernelspec": {
   "display_name": "Python 3 (ipykernel)",
   "language": "python",
   "name": "python3"
  },
  "language_info": {
   "codemirror_mode": {
    "name": "ipython",
    "version": 3
   },
   "file_extension": ".py",
   "mimetype": "text/x-python",
   "name": "python",
   "nbconvert_exporter": "python",
   "pygments_lexer": "ipython3",
   "version": "3.9.13"
  }
 },
 "nbformat": 4,
 "nbformat_minor": 5
}
