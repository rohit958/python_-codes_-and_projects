{
 "cells": [
  {
   "cell_type": "code",
   "execution_count": 1,
   "id": "e0f1cd2e",
   "metadata": {},
   "outputs": [
    {
     "name": "stdout",
     "output_type": "stream",
     "text": [
      "before sorting: [44, 66, 77, 8, 66, 57, 212, 12, 1, 11, 33, 3232, 766, 575, 8686, 3, 44, 66]\n",
      "after sorting: [1, 3, 8, 11, 12, 33, 44, 44, 57, 66, 66, 66, 77, 212, 575, 766, 3232, 8686]\n",
      "Although,function ran successfully.\n"
     ]
    }
   ],
   "source": [
    "#bubble sort\n",
    "\n",
    "#space complexity- O(1)\n",
    "#time complexity- worst-O(n2), best-O(n)\n",
    "#use case-Works well if array is already sorted if not, it's not efficient. Works well in minimum space available\n",
    "def bubble(elements):\n",
    "    size=len(elements)\n",
    "    \n",
    "    for j in range(size-1):\n",
    "        swapped= False\n",
    "        for i in range(size-1):\n",
    "            if elements[i]>elements[i+1]:\n",
    "                #bubble swapping\n",
    "                temp=elements[i]\n",
    "                elements[i]=elements[i+1]\n",
    "                elements[i+1]=temp\n",
    "                swapped=True\n",
    "        if not swapped:\n",
    "                break           \n",
    "\n",
    "\n",
    "if __name__=='__main__':\n",
    "    elements=[44,66,77,8,66,57,212,12,1,11,33,3232,766,575,8686,3,44,66]\n",
    "    print(\"before sorting:\",elements)\n",
    "    bubble(elements)\n",
    "    print(\"after sorting:\",elements)    \n",
    "    print(\"Although,function ran successfully.\")\n",
    "else:\n",
    "    print(\"poor coding..\")\n",
    "    \n"
   ]
  },
  {
   "cell_type": "code",
   "execution_count": 31,
   "id": "5d2b5b5d",
   "metadata": {},
   "outputs": [
    {
     "name": "stdout",
     "output_type": "stream",
     "text": [
      "before sorting: [44, 66, 77, 8, 66, 57, 212, 12, 1, 11, 33, 3232, 766, 575, 8686, 3, 44, 66]\n",
      "after sorting: [1, 3, 8, 11, 12, 33, 44, 44, 57, 66, 66, 66, 77, 212, 575, 766, 3232, 8686]\n",
      "Although,function ran successfully.\n"
     ]
    }
   ],
   "source": [
    " #insertion sort- non recursive\n",
    "\n",
    "#space complexity- worst-O(N) or O(1), best-O(n^2)\n",
    "#time complexity- worst-O(n) , best-O(n) or O(1)\n",
    "#use case- small list and time efficiency is needed\n",
    "\n",
    "#using anchor or pointer way\n",
    "def insertion(array):\n",
    "    for i in range(1,len(array)):\n",
    "        anchor= array[i]\n",
    "        j=i-1\n",
    "        while j>=0 and anchor < array[j]:\n",
    "            array[j+1]=array[j]\n",
    "            j=j-1\n",
    "        array[j+1]=anchor    \n",
    "            \n",
    "\n",
    "\n",
    "if __name__=='__main__':\n",
    "    elements=[44,66,77,8,66,57,212,12,1,11,33,3232,766,575,8686,3,44,66]\n",
    "    print(\"before sorting:\",elements)\n",
    "    insertion(elements)\n",
    "    print(\"after sorting:\",elements)    \n",
    "    print(\"Although,function ran successfully.\")\n",
    "else:\n",
    "    print(\"poor coding..\")\n",
    "    \n",
    "\n"
   ]
  },
  {
   "cell_type": "code",
   "execution_count": 24,
   "id": "0333d182",
   "metadata": {},
   "outputs": [],
   "source": [
    "#MERGE SORT- divide and conquer\n",
    "\n",
    "#space complexity-\n",
    "#time complexity- worst-O(Nlog(N))\n",
    "#use case- large data set(databases), random access is required, linked list compatible, not in place,stable, online incremental\n",
    "# use by python sort() \n",
    "\n",
    "def merge(array):\n",
    "    pass\n",
    "    \n",
    "    \n",
    "    \n",
    "    \n",
    "    \n",
    "if __name__=='__main__':\n",
    "    elements=[44,66,77,8,66,57,212,12,1,11,33,3232,766,575,8686,3,44,66]\n",
    "    print(\"before sorting:\",elements)\n",
    "    merge(elements)\n",
    "    print(\"after sorting:\",elements)    \n",
    "    print(\"Although,function ran successfully.\")\n",
    "else:\n",
    "    print(\"poor coding..\")\n"
   ]
  },
  {
   "cell_type": "code",
   "execution_count": 25,
   "id": "bc8f5ebc",
   "metadata": {},
   "outputs": [],
   "source": [
    "#radix sort\n",
    "\n",
    "#space complexity-\n",
    "#time complexity-\n",
    "#use case-"
   ]
  },
  {
   "cell_type": "code",
   "execution_count": 26,
   "id": "5a9a1a0a",
   "metadata": {},
   "outputs": [],
   "source": [
    "#selection sort\n",
    "\n",
    "#space complexity-\n",
    "#time complexity-\n",
    "#use case-"
   ]
  },
  {
   "cell_type": "code",
   "execution_count": 7,
   "id": "3f70e61c",
   "metadata": {},
   "outputs": [
    {
     "name": "stdout",
     "output_type": "stream",
     "text": [
      "before sorting: [44, 66, 77, 8, 66, 57, 212, 12, 1, 11, 33, 3232, 766, 575, 8686, 3, 44, 66]\n",
      "Sorted array is: [1, 3, 8, 11, 12, 33, 44, 44, 57, 66, 66, 66, 77, 212, 575, 766, 3232, 8686]\n"
     ]
    }
   ],
   "source": [
    "#Quick sort\n",
    "\n",
    "#space complexity-\n",
    "#time complexity-\n",
    "#use case-\n",
    "\n",
    "\n",
    "def partition(arr, low, high):\n",
    "\ti = (low-1)# index of smaller element\n",
    "\tpivot = arr[high]\t # pivot\n",
    "\n",
    "\tfor j in range(low, high):\n",
    "\n",
    "\t\t# If current element is smaller than or\n",
    "\t\t# equal to pivot\n",
    "\t\tif arr[j] <= pivot:\n",
    "\n",
    "\t\t\t# increment index of smaller element\n",
    "\t\t\ti = i+1\n",
    "\t\t\tarr[i], arr[j] = arr[j], arr[i]\n",
    "\n",
    "\tarr[i+1], arr[high] = arr[high], arr[i+1]\n",
    "\treturn (i+1)\n",
    "\n",
    "# The main function that implements QuickSort\n",
    "# arr[] --> Array to be sorted,\n",
    "# low --> Starting index,\n",
    "# high --> Ending index\n",
    "\n",
    "\n",
    "def quickSort(arr, low, high):\n",
    "\t# Function to do Quick sort\n",
    "\tif len(arr) == 1:\n",
    "\t\treturn arr\n",
    "\tif low < high:\n",
    "\n",
    "\t\t# pi is partitioning index, arr[p] is now\n",
    "\t\t# at right place\n",
    "\t\tpi = partition(arr, low, high)\n",
    "\n",
    "\t\t# Separately sort elements before\n",
    "\t\t# partition and after partition\n",
    "\t\tquickSort(arr, low, pi-1)\n",
    "\t\tquickSort(arr, pi+1, high)\n",
    "\n",
    "\n",
    "# Driver code to test above\n",
    "arr = [44,66,77,8,66,57,212,12,1,11,33,3232,766,575,8686,3,44,66]\n",
    "\n",
    "print(\"before sorting:\",arr)\n",
    "n = len(arr)\n",
    "quickSort(arr, 0, n-1)\n",
    "print(\"Sorted array is:\",arr)\n"
   ]
  },
  {
   "cell_type": "code",
   "execution_count": null,
   "id": "1de660af",
   "metadata": {},
   "outputs": [],
   "source": []
  },
  {
   "cell_type": "code",
   "execution_count": null,
   "id": "d6bbbd1a",
   "metadata": {},
   "outputs": [],
   "source": []
  }
 ],
 "metadata": {
  "kernelspec": {
   "display_name": "Python 3",
   "language": "python",
   "name": "python3"
  },
  "language_info": {
   "codemirror_mode": {
    "name": "ipython",
    "version": 3
   },
   "file_extension": ".py",
   "mimetype": "text/x-python",
   "name": "python",
   "nbconvert_exporter": "python",
   "pygments_lexer": "ipython3",
   "version": "3.11.1 (tags/v3.11.1:a7a450f, Dec  6 2022, 19:58:39) [MSC v.1934 64 bit (AMD64)]"
  },
  "vscode": {
   "interpreter": {
    "hash": "f14c79724f1ca44cee74076c7ac411651646bb7bad4ab2435a2a33e719afb75e"
   }
  }
 },
 "nbformat": 4,
 "nbformat_minor": 5
}
