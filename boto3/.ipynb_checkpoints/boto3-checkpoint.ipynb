{
 "cells": [
  {
   "cell_type": "markdown",
   "id": "35b721bd",
   "metadata": {},
   "source": [
    "# boto 3 for s3\n"
   ]
  },
  {
   "cell_type": "code",
   "execution_count": 1,
   "id": "9b18b8cf",
   "metadata": {},
   "outputs": [],
   "source": [
    "#importing libary \n",
    "import boto3"
   ]
  },
  {
   "cell_type": "code",
   "execution_count": 2,
   "id": "6c891241",
   "metadata": {},
   "outputs": [],
   "source": [
    "# creating client \n",
    "client = boto3.client('s3')"
   ]
  },
  {
   "cell_type": "code",
   "execution_count": 4,
   "id": "26a2a12f",
   "metadata": {},
   "outputs": [],
   "source": [
    "#creating resource\n",
    "s3=boto3.resource('s3')"
   ]
  },
  {
   "cell_type": "code",
   "execution_count": 11,
   "id": "1240768a",
   "metadata": {},
   "outputs": [
    {
     "data": {
      "text/plain": [
       "s3.Bucket(name='batcave1121')"
      ]
     },
     "execution_count": 11,
     "metadata": {},
     "output_type": "execute_result"
    }
   ],
   "source": [
    "#creating bucket\n",
    "s3.create_bucket(Bucket ='batcave1121' , CreateBucketConfiguration={\n",
    "    'LocationConstraint': 'ap-south-1'\n",
    "})\n"
   ]
  },
  {
   "cell_type": "code",
   "execution_count": 12,
   "id": "ad323e92",
   "metadata": {},
   "outputs": [],
   "source": [
    "#response\n",
    "response=client.list_buckets()"
   ]
  },
  {
   "cell_type": "code",
   "execution_count": 16,
   "id": "263a774b",
   "metadata": {},
   "outputs": [
    {
     "data": {
      "text/plain": [
       "{'ResponseMetadata': {'RequestId': '5TAA6A592P4073XB',\n",
       "  'HostId': 'TRN5jMAVQ1vr2FYTuND0wHuDVgRIfqt+lo4L+CmWnAVHdXrTfwGHn0pvoYF3uy8u5YzeRDPftQI=',\n",
       "  'HTTPStatusCode': 200,\n",
       "  'HTTPHeaders': {'x-amz-id-2': 'TRN5jMAVQ1vr2FYTuND0wHuDVgRIfqt+lo4L+CmWnAVHdXrTfwGHn0pvoYF3uy8u5YzeRDPftQI=',\n",
       "   'x-amz-request-id': '5TAA6A592P4073XB',\n",
       "   'date': 'Tue, 05 Apr 2022 07:57:37 GMT',\n",
       "   'content-type': 'application/xml',\n",
       "   'transfer-encoding': 'chunked',\n",
       "   'server': 'AmazonS3'},\n",
       "  'RetryAttempts': 0},\n",
       " 'Buckets': [{'Name': 'batcave1121',\n",
       "   'CreationDate': datetime.datetime(2022, 4, 5, 7, 50, 7, tzinfo=tzutc())}],\n",
       " 'Owner': {'ID': 'a8d75e53adf0b4f35b287d86ecae27ee851df806ba12368bb6176339df868a15'}}"
      ]
     },
     "execution_count": 16,
     "metadata": {},
     "output_type": "execute_result"
    }
   ],
   "source": [
    "response\n",
    "\n",
    "response['Buckets']\n"
   ]
  },
  {
   "cell_type": "code",
   "execution_count": 28,
   "id": "481ed6ed",
   "metadata": {},
   "outputs": [],
   "source": [
    "#upload files \n",
    "def upload_files(filename, bucket, object_name = None, args=None ):\n",
    "    #filename-local name in pc\n",
    "    #bucket=bucket name\n",
    "    #object name\n",
    "    \n",
    "    if object_name is None:\n",
    "        object_name = filename\n",
    "    \n",
    "    response= client.upload_file(filename, bucket, object_name)\n",
    "    \n",
    "    print(response)"
   ]
  },
  {
   "cell_type": "code",
   "execution_count": 29,
   "id": "f5141beb",
   "metadata": {},
   "outputs": [
    {
     "name": "stdout",
     "output_type": "stream",
     "text": [
      "None\n"
     ]
    }
   ],
   "source": [
    "upload_files(r'D:\\\\sample_CSV\\\\access_code.csv','batcave1121')"
   ]
  },
  {
   "cell_type": "code",
   "execution_count": 25,
   "id": "0f96371f",
   "metadata": {},
   "outputs": [
    {
     "name": "stdout",
     "output_type": "stream",
     "text": [
      "None\n"
     ]
    }
   ],
   "source": [
    "#direct\n",
    "response= client.upload_file(r\"D:\\sample_CSV\\addresses.csv\",'batcave1121','access_code')\n",
    "print(response)"
   ]
  },
  {
   "cell_type": "code",
   "execution_count": 33,
   "id": "70117c76",
   "metadata": {},
   "outputs": [
    {
     "name": "stdout",
     "output_type": "stream",
     "text": [
      "None\n",
      "D:\\sample_parquet_file\\userdata1.parquet uploaded\n",
      "None\n",
      "D:\\sample_parquet_file\\userdata2.parquet uploaded\n",
      "None\n",
      "D:\\sample_parquet_file\\userdata3.parquet uploaded\n"
     ]
    }
   ],
   "source": [
    "#all files at once in folder\n",
    "import glob\n",
    "\n",
    "files= glob.glob('D:\\sample_parquet_file\\*')\n",
    "files\n",
    "\n",
    "for file in files:\n",
    "    upload_files(file,'batcave1121')\n",
    "    print(file ,\"uploaded\")"
   ]
  },
  {
   "cell_type": "code",
   "execution_count": 42,
   "id": "f4aa9f35",
   "metadata": {},
   "outputs": [
    {
     "name": "stdout",
     "output_type": "stream",
     "text": [
      "downloading s3.ObjectSummary(bucket_name='batcave1121', key='D:\\\\sample_parquet_file\\\\userdata1.parquet')\n",
      "downloading s3.ObjectSummary(bucket_name='batcave1121', key='D:\\\\sample_parquet_file\\\\userdata2.parquet')\n",
      "downloading s3.ObjectSummary(bucket_name='batcave1121', key='D:\\\\sample_parquet_file\\\\userdata3.parquet')\n",
      "downloading s3.ObjectSummary(bucket_name='batcave1121', key='access_code')\n",
      "downloading s3.ObjectSummary(bucket_name='batcave1121', key='access_code.csv')\n"
     ]
    }
   ],
   "source": [
    "# downloading files from s3\n",
    "bucket= s3.Bucket('batcave1121')\n",
    "files=list(bucket.objects.all())\n",
    "\n",
    "for file in files:\n",
    "    client.download_file('batcave1121',file.key,file.key)\n",
    "    print(\"downloading\", file)"
   ]
  },
  {
   "cell_type": "code",
   "execution_count": 49,
   "id": "cdb7b6d9",
   "metadata": {},
   "outputs": [
    {
     "name": "stdout",
     "output_type": "stream",
     "text": [
      "Collecting s3fs\n",
      "  Downloading s3fs-2022.3.0-py3-none-any.whl (26 kB)\n",
      "Collecting aiobotocore~=2.2.0\n",
      "  Downloading aiobotocore-2.2.0.tar.gz (59 kB)\n",
      "Collecting fsspec==2022.3.0\n",
      "  Downloading fsspec-2022.3.0-py3-none-any.whl (136 kB)\n",
      "Collecting aiohttp<=4\n",
      "  Downloading aiohttp-3.8.1-cp39-cp39-win_amd64.whl (554 kB)\n",
      "Collecting botocore<1.24.22,>=1.24.21\n",
      "  Downloading botocore-1.24.21-py3-none-any.whl (8.6 MB)\n",
      "Requirement already satisfied: wrapt>=1.10.10 in c:\\users\\rohit\\anaconda3\\lib\\site-packages (from aiobotocore~=2.2.0->s3fs) (1.12.1)\n",
      "Collecting aioitertools>=0.5.1\n",
      "  Downloading aioitertools-0.10.0-py3-none-any.whl (23 kB)\n",
      "Requirement already satisfied: charset-normalizer<3.0,>=2.0 in c:\\users\\rohit\\anaconda3\\lib\\site-packages (from aiohttp<=4->s3fs) (2.0.4)\n",
      "Requirement already satisfied: attrs>=17.3.0 in c:\\users\\rohit\\anaconda3\\lib\\site-packages (from aiohttp<=4->s3fs) (21.2.0)\n",
      "Collecting async-timeout<5.0,>=4.0.0a3\n",
      "  Downloading async_timeout-4.0.2-py3-none-any.whl (5.8 kB)\n",
      "Collecting aiosignal>=1.1.2\n",
      "  Downloading aiosignal-1.2.0-py3-none-any.whl (8.2 kB)\n",
      "Collecting frozenlist>=1.1.1\n",
      "  Downloading frozenlist-1.3.0-cp39-cp39-win_amd64.whl (33 kB)\n",
      "Collecting multidict<7.0,>=4.5\n",
      "  Downloading multidict-6.0.2-cp39-cp39-win_amd64.whl (28 kB)\n",
      "Collecting yarl<2.0,>=1.0\n",
      "  Downloading yarl-1.7.2-cp39-cp39-win_amd64.whl (122 kB)\n",
      "Collecting typing_extensions>=4.0\n",
      "  Downloading typing_extensions-4.1.1-py3-none-any.whl (26 kB)\n",
      "Requirement already satisfied: jmespath<2.0.0,>=0.7.1 in c:\\users\\rohit\\anaconda3\\lib\\site-packages (from botocore<1.24.22,>=1.24.21->aiobotocore~=2.2.0->s3fs) (0.10.0)\n",
      "Requirement already satisfied: urllib3<1.27,>=1.25.4 in c:\\users\\rohit\\anaconda3\\lib\\site-packages (from botocore<1.24.22,>=1.24.21->aiobotocore~=2.2.0->s3fs) (1.26.7)\n",
      "Requirement already satisfied: python-dateutil<3.0.0,>=2.1 in c:\\users\\rohit\\anaconda3\\lib\\site-packages (from botocore<1.24.22,>=1.24.21->aiobotocore~=2.2.0->s3fs) (2.8.2)\n",
      "Requirement already satisfied: six>=1.5 in c:\\users\\rohit\\anaconda3\\lib\\site-packages (from python-dateutil<3.0.0,>=2.1->botocore<1.24.22,>=1.24.21->aiobotocore~=2.2.0->s3fs) (1.16.0)\n",
      "Requirement already satisfied: idna>=2.0 in c:\\users\\rohit\\anaconda3\\lib\\site-packages (from yarl<2.0,>=1.0->aiohttp<=4->s3fs) (3.2)\n",
      "Building wheels for collected packages: aiobotocore\n",
      "  Building wheel for aiobotocore (setup.py): started\n",
      "  Building wheel for aiobotocore (setup.py): finished with status 'done'\n",
      "  Created wheel for aiobotocore: filename=aiobotocore-2.2.0-py3-none-any.whl size=57108 sha256=8aec845984aa10a0ae4a36e4e4aed1d2968043852520933336dc8813ea9aeb9d\n",
      "  Stored in directory: c:\\users\\rohit\\appdata\\local\\pip\\cache\\wheels\\03\\00\\b5\\78eda0a8dffd05e210f46e99fd8df6775f76cca046f7a3a5fc\n",
      "Successfully built aiobotocore\n",
      "Installing collected packages: multidict, frozenlist, yarl, typing-extensions, async-timeout, aiosignal, botocore, aioitertools, aiohttp, fsspec, aiobotocore, s3fs\n",
      "  Attempting uninstall: typing-extensions\n",
      "    Found existing installation: typing-extensions 3.10.0.2\n",
      "    Uninstalling typing-extensions-3.10.0.2:\n",
      "      Successfully uninstalled typing-extensions-3.10.0.2\n",
      "  Attempting uninstall: botocore\n",
      "    Found existing installation: botocore 1.24.3\n",
      "    Uninstalling botocore-1.24.3:\n",
      "      Successfully uninstalled botocore-1.24.3\n",
      "  Attempting uninstall: fsspec\n",
      "    Found existing installation: fsspec 2021.10.1\n",
      "    Uninstalling fsspec-2021.10.1:\n",
      "      Successfully uninstalled fsspec-2021.10.1\n",
      "Successfully installed aiobotocore-2.2.0 aiohttp-3.8.1 aioitertools-0.10.0 aiosignal-1.2.0 async-timeout-4.0.2 botocore-1.24.21 frozenlist-1.3.0 fsspec-2022.3.0 multidict-6.0.2 s3fs-2022.3.0 typing-extensions-4.1.1 yarl-1.7.2\n"
     ]
    }
   ],
   "source": [
    "! pip install s3fs"
   ]
  },
  {
   "cell_type": "code",
   "execution_count": null,
   "id": "f8f176a5",
   "metadata": {},
   "outputs": [],
   "source": []
  },
  {
   "cell_type": "code",
   "execution_count": null,
   "id": "9d0c492e",
   "metadata": {},
   "outputs": [],
   "source": []
  },
  {
   "cell_type": "code",
   "execution_count": null,
   "id": "5fffeb07",
   "metadata": {},
   "outputs": [],
   "source": []
  },
  {
   "cell_type": "code",
   "execution_count": null,
   "id": "9971981e",
   "metadata": {},
   "outputs": [],
   "source": []
  },
  {
   "cell_type": "code",
   "execution_count": null,
   "id": "a0d84c62",
   "metadata": {},
   "outputs": [],
   "source": []
  }
 ],
 "metadata": {
  "kernelspec": {
   "display_name": "Python 3 (ipykernel)",
   "language": "python",
   "name": "python3"
  },
  "language_info": {
   "codemirror_mode": {
    "name": "ipython",
    "version": 3
   },
   "file_extension": ".py",
   "mimetype": "text/x-python",
   "name": "python",
   "nbconvert_exporter": "python",
   "pygments_lexer": "ipython3",
   "version": "3.9.7"
  }
 },
 "nbformat": 4,
 "nbformat_minor": 5
}
